{
 "cells": [
  {
   "cell_type": "code",
   "execution_count": 21,
   "id": "0ad87a57-c026-4eae-bb96-cd41ca7b2dbf",
   "metadata": {},
   "outputs": [
    {
     "data": {
      "text/html": [
       "<div>\n",
       "<style scoped>\n",
       "    .dataframe tbody tr th:only-of-type {\n",
       "        vertical-align: middle;\n",
       "    }\n",
       "\n",
       "    .dataframe tbody tr th {\n",
       "        vertical-align: top;\n",
       "    }\n",
       "\n",
       "    .dataframe thead th {\n",
       "        text-align: right;\n",
       "    }\n",
       "</style>\n",
       "<table border=\"1\" class=\"dataframe\">\n",
       "  <thead>\n",
       "    <tr style=\"text-align: right;\">\n",
       "      <th></th>\n",
       "      <th>ï»¿NOME_UF</th>\n",
       "      <th>NOME_MUNICIPIO</th>\n",
       "      <th>ESFERA_GOV_ESCOLA</th>\n",
       "      <th>LOCALIZACAO_ESCOLA</th>\n",
       "      <th>INEP_ESCOLA</th>\n",
       "      <th>NOME_ESCOLA</th>\n",
       "      <th>QUANT_ALUNADO</th>\n",
       "      <th>VALOR_RECEBIDO</th>\n",
       "    </tr>\n",
       "  </thead>\n",
       "  <tbody>\n",
       "    <tr>\n",
       "      <th>0</th>\n",
       "      <td>RO</td>\n",
       "      <td>PORTO VELHO</td>\n",
       "      <td>ESTADUAL</td>\n",
       "      <td>Urbana</td>\n",
       "      <td>11000708</td>\n",
       "      <td>EEEFM CAP CLAUDIO MANOEL DA COSTA</td>\n",
       "      <td>60</td>\n",
       "      <td>R$ 4.120,00</td>\n",
       "    </tr>\n",
       "    <tr>\n",
       "      <th>1</th>\n",
       "      <td>RO</td>\n",
       "      <td>PORTO VELHO</td>\n",
       "      <td>MUNICIPAL</td>\n",
       "      <td>Rural</td>\n",
       "      <td>11000864</td>\n",
       "      <td>EMEF DEIGMAR MORAES DE SOUZA</td>\n",
       "      <td>200</td>\n",
       "      <td>R$ 54.840,00</td>\n",
       "    </tr>\n",
       "    <tr>\n",
       "      <th>2</th>\n",
       "      <td>RO</td>\n",
       "      <td>PORTO VELHO</td>\n",
       "      <td>ESTADUAL</td>\n",
       "      <td>Urbana</td>\n",
       "      <td>11001160</td>\n",
       "      <td>EEEF HEITOR VILLA LOBOS</td>\n",
       "      <td>60</td>\n",
       "      <td>R$ 8.556,00</td>\n",
       "    </tr>\n",
       "  </tbody>\n",
       "</table>\n",
       "</div>"
      ],
      "text/plain": [
       "  ï»¿NOME_UF NOME_MUNICIPIO ESFERA_GOV_ESCOLA LOCALIZACAO_ESCOLA  INEP_ESCOLA  \\\n",
       "0         RO    PORTO VELHO          ESTADUAL             Urbana     11000708   \n",
       "1         RO    PORTO VELHO         MUNICIPAL              Rural     11000864   \n",
       "2         RO    PORTO VELHO          ESTADUAL             Urbana     11001160   \n",
       "\n",
       "                         NOME_ESCOLA  QUANT_ALUNADO  VALOR_RECEBIDO   \n",
       "0  EEEFM CAP CLAUDIO MANOEL DA COSTA             60     R$ 4.120,00   \n",
       "1       EMEF DEIGMAR MORAES DE SOUZA            200    R$ 54.840,00   \n",
       "2            EEEF HEITOR VILLA LOBOS             60     R$ 8.556,00   "
      ]
     },
     "execution_count": 21,
     "metadata": {},
     "output_type": "execute_result"
    }
   ],
   "source": [
    "import pandas as pd\n",
    "\n",
    "arquivo = \"trabalho.csv.csv\"\n",
    "df = pd.read_csv(arquivo, sep=';' , encoding= 'latin1', nrows=1000)\n",
    "                 \n",
    "df.head(3)"
   ]
  },
  {
   "cell_type": "code",
   "execution_count": 23,
   "id": "ec6b4fc5-9995-4f03-acb5-e0d0d27035ad",
   "metadata": {},
   "outputs": [
    {
     "name": "stdout",
     "output_type": "stream",
     "text": [
      "a media do pib 3 primeiros meses é: 158.873\n"
     ]
    }
   ],
   "source": [
    "def calcular_media(df, QUANT_ALUNADO):\n",
    "    media = df[QUANT_ALUNADO].mean()\n",
    "    print(\"a media do pib 3 primeiros meses é: \" + str(media))\n",
    "    \n",
    "calcular_media(df, 'QUANT_ALUNADO')"
   ]
  },
  {
   "cell_type": "code",
   "execution_count": 26,
   "id": "ebf606ea-7669-4377-822a-9aae88ad30d9",
   "metadata": {},
   "outputs": [
    {
     "name": "stdout",
     "output_type": "stream",
     "text": [
      "A quantidade de pib acima de 600 foi 37\n"
     ]
    }
   ],
   "source": [
    "valor_min = 600\n",
    "contador = 1 \n",
    "\n",
    "for index, row in df.iterrows():\n",
    "    if row['QUANT_ALUNADO'] > valor_min:\n",
    "        contador += 2\n",
    "print(f\"A quantidade de pib acima de\", valor_min, \"foi\" , contador)"
   ]
  },
  {
   "cell_type": "code",
   "execution_count": 29,
   "id": "62d1efdb-7660-420b-bef2-c2f155d3f156",
   "metadata": {},
   "outputs": [
    {
     "name": "stdout",
     "output_type": "stream",
     "text": [
      "a media da quantidade de aluno foi: 158.87\n"
     ]
    }
   ],
   "source": [
    "from functools import reduce\n",
    "df['QUANT_ALUNADO'] = pd.to_numeric(df['QUANT_ALUNADO'], errors='coerce')\n",
    "\n",
    "media_notas = reduce(lambda x, y: x +y, df['QUANT_ALUNADO']) / len(df['QUANT_ALUNADO'])\n",
    "print(\"a media da quantidade de aluno foi:\", round(media_notas, 2))"
   ]
  },
  {
   "cell_type": "code",
   "execution_count": 38,
   "id": "392cc54b-742e-4b4d-bdd9-3706b256e337",
   "metadata": {},
   "outputs": [
    {
     "name": "stdout",
     "output_type": "stream",
     "text": [
      "A soma da quantidade de alunos é: 15291.0\n",
      "A média da quantidade de alunos é: 152.91\n",
      "A mediana da quantidade de alunos é: 102.0\n"
     ]
    }
   ],
   "source": [
    "import pandas as pd\n",
    "import statistics\n",
    "\n",
    "arquivo = 'trabalho.csv.csv'\n",
    "df = pd.read_csv(arquivo, sep=';', encoding='latin', nrows=100)\n",
    "\n",
    "def nota_maior_igual_sete(row):\n",
    "    nota = float(str(row['QUANT_ALUNADO']).replace(',', '.')) if isinstance(row['QUANT_ALUNADO'], str) else row['QUANT_ALUNADO']\n",
    "    return nota >= 7\n",
    "\n",
    "df_filtrado = list(filter(nota_maior_igual_sete, df.to_dict('records')))\n",
    "\n",
    "notas = [float(str(row['QUANT_ALUNADO']).replace(',', '.')) for row in df_filtrado]\n",
    "\n",
    "soma_notas = sum(notas)\n",
    "media_notas = soma_notas / len(notas)\n",
    "mediana_notas = statistics.median(notas)\n",
    "\n",
    "print(\"A soma da quantidade de alunos é:\", soma_notas)\n",
    "print(\"A média da quantidade de alunos é:\", media_notas)\n",
    "print(\"A mediana da quantidade de alunos é:\", mediana_notas)\n"
   ]
  },
  {
   "cell_type": "code",
   "execution_count": null,
   "id": "752c6fc6-e645-42aa-89e4-f5ab2fb11f32",
   "metadata": {},
   "outputs": [],
   "source": []
  }
 ],
 "metadata": {
  "kernelspec": {
   "display_name": "Python 3 (ipykernel)",
   "language": "python",
   "name": "python3"
  },
  "language_info": {
   "codemirror_mode": {
    "name": "ipython",
    "version": 3
   },
   "file_extension": ".py",
   "mimetype": "text/x-python",
   "name": "python",
   "nbconvert_exporter": "python",
   "pygments_lexer": "ipython3",
   "version": "3.9.13"
  }
 },
 "nbformat": 4,
 "nbformat_minor": 5
}
